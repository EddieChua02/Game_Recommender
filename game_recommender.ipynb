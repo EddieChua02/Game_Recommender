{
 "cells": [
  {
   "cell_type": "code",
   "execution_count": 6,
   "metadata": {},
   "outputs": [],
   "source": [
    "import pandas as pd\n",
    "from sklearn.feature_extraction.text import TfidfVectorizer\n",
    "from sklearn.metrics.pairwise import cosine_similarity, linear_kernel\n",
    "\n",
    "# Step 1: Load and Inspect the Dataset\n",
    "metadata = pd.read_csv(r\"steam.csv\")  # Replace with your file path\n",
    "\n",
    "# Step 2: Data Preprocessing\n",
    "# Fill missing values in text columns with empty strings\n",
    "metadata['description'] = metadata['description'].fillna('')\n",
    "metadata['tags'] = metadata['tags'].fillna('')\n",
    "metadata['developer'] = metadata['developer'].fillna('')\n",
    "\n",
    "# Combine relevant textual features into one column\n",
    "metadata['combined_features'] = (\n",
    "    metadata['description'] + ' ' +\n",
    "    metadata['tags']\n",
    ")"
   ]
  },
  {
   "cell_type": "code",
   "execution_count": 7,
   "metadata": {},
   "outputs": [],
   "source": [
    "# Step 3: Feature Engineering\n",
    "# Create TF-IDF matrix for combined features\n",
    "tfidf = TfidfVectorizer(stop_words='english')\n",
    "tfidf_matrix = tfidf.fit_transform(metadata['combined_features'])\n",
    "\n",
    "# Compute cosine similarity\n",
    "cosine_sim = linear_kernel(tfidf_matrix,tfidf_matrix)"
   ]
  },
  {
   "cell_type": "code",
   "execution_count": 8,
   "metadata": {},
   "outputs": [
    {
     "name": "stdout",
     "output_type": "stream",
     "text": [
      "Games similar to 'Dota 2':\n",
      " 7085                                         Roads of Rome\n",
      "967                                                  HOARD\n",
      "14479                                           VectorWave\n",
      "13108                         Greyhound Manager 2 Rebooted\n",
      "1981                                         Anomaly Korea\n",
      "14615    Phantasmat: The Endless Night Collector's Edition\n",
      "24299                                   The Legend Of Vraz\n",
      "25104                   The Qaedon Wars - The Story Begins\n",
      "3919                                          Pyrite Heart\n",
      "2346                                            Last Dream\n",
      "Name: name, dtype: object\n"
     ]
    }
   ],
   "source": [
    "# Step 4: Build the Recommendation Function\n",
    "# Create an index mapping for game names\n",
    "indices = pd.Series(metadata.index, index=metadata['name']).drop_duplicates()\n",
    "\n",
    "def recommend_games(game_name, cosine_sim=cosine_sim):\n",
    "    \"\"\"\n",
    "    Recommend games similar to the input game based on cosine similarity.\n",
    "    :param game_name: Name of the input game\n",
    "    :param cosine_sim: Cosine similarity matrix\n",
    "    :return: List of recommended game names\n",
    "    \"\"\"\n",
    "    # Get the index of the game that matches the title\n",
    "    idx = indices[game_name]\n",
    "\n",
    "    # Get the pairwise similarity scores for this game with all other games\n",
    "    sim_scores = list(enumerate(cosine_sim[idx]))\n",
    "\n",
    "    # Sort the games by similarity score (highest first)\n",
    "    sim_scores = sorted(sim_scores, key=lambda x: x[1], reverse=True)\n",
    "\n",
    "    # Get the indices of the top 10 most similar games (excluding the input game itself)\n",
    "    sim_scores = sim_scores[1:11]  # Top 10 excluding the first result (self)\n",
    "    game_indices = [i[0] for i in sim_scores]\n",
    "\n",
    "    # Return the names of the top 10 similar games\n",
    "    return metadata['name'].iloc[game_indices]\n",
    "\n",
    "# Step 5: Test the Recommender System\n",
    "game_name = \"Dota 2\"  # Replace with a game name from your dataset\n",
    "recommendations = recommend_games(game_name)\n",
    "print(f\"Games similar to '{game_name}':\\n\", recommendations)"
   ]
  },
  {
   "cell_type": "code",
   "execution_count": 2,
   "metadata": {},
   "outputs": [
    {
     "name": "stdout",
     "output_type": "stream",
     "text": [
      "Defaulting to user installation because normal site-packages is not writeable\n",
      "Collecting matplotlib\n",
      "  Downloading matplotlib-3.10.0-cp313-cp313-win_amd64.whl.metadata (11 kB)\n",
      "Collecting contourpy>=1.0.1 (from matplotlib)\n",
      "  Downloading contourpy-1.3.1-cp313-cp313-win_amd64.whl.metadata (5.4 kB)\n",
      "Collecting cycler>=0.10 (from matplotlib)\n",
      "  Downloading cycler-0.12.1-py3-none-any.whl.metadata (3.8 kB)\n",
      "Collecting fonttools>=4.22.0 (from matplotlib)\n",
      "  Downloading fonttools-4.55.3-cp313-cp313-win_amd64.whl.metadata (168 kB)\n",
      "Collecting kiwisolver>=1.3.1 (from matplotlib)\n",
      "  Downloading kiwisolver-1.4.8-cp313-cp313-win_amd64.whl.metadata (6.3 kB)\n",
      "Requirement already satisfied: numpy>=1.23 in c:\\users\\eddie chua\\appdata\\roaming\\python\\python313\\site-packages (from matplotlib) (2.2.1)\n",
      "Requirement already satisfied: packaging>=20.0 in c:\\users\\eddie chua\\appdata\\roaming\\python\\python313\\site-packages (from matplotlib) (24.2)\n",
      "Collecting pillow>=8 (from matplotlib)\n",
      "  Downloading pillow-11.0.0-cp313-cp313-win_amd64.whl.metadata (9.3 kB)\n",
      "Collecting pyparsing>=2.3.1 (from matplotlib)\n",
      "  Downloading pyparsing-3.2.0-py3-none-any.whl.metadata (5.0 kB)\n",
      "Requirement already satisfied: python-dateutil>=2.7 in c:\\users\\eddie chua\\appdata\\roaming\\python\\python313\\site-packages (from matplotlib) (2.9.0.post0)\n",
      "Requirement already satisfied: six>=1.5 in c:\\users\\eddie chua\\appdata\\roaming\\python\\python313\\site-packages (from python-dateutil>=2.7->matplotlib) (1.17.0)\n",
      "Downloading matplotlib-3.10.0-cp313-cp313-win_amd64.whl (8.0 MB)\n",
      "   ---------------------------------------- 0.0/8.0 MB ? eta -:--:--\n",
      "   -- ------------------------------------- 0.5/8.0 MB 12.8 MB/s eta 0:00:01\n",
      "   ------- -------------------------------- 1.6/8.0 MB 3.8 MB/s eta 0:00:02\n",
      "   ----------- ---------------------------- 2.4/8.0 MB 4.1 MB/s eta 0:00:02\n",
      "   --------------- ------------------------ 3.1/8.0 MB 4.1 MB/s eta 0:00:02\n",
      "   ------------------- -------------------- 3.9/8.0 MB 3.8 MB/s eta 0:00:02\n",
      "   ---------------------- ----------------- 4.5/8.0 MB 3.5 MB/s eta 0:00:02\n",
      "   ----------------------- ---------------- 4.7/8.0 MB 3.4 MB/s eta 0:00:01\n",
      "   -------------------------- ------------- 5.2/8.0 MB 3.1 MB/s eta 0:00:01\n",
      "   --------------------------- ------------ 5.5/8.0 MB 3.0 MB/s eta 0:00:01\n",
      "   ------------------------------ --------- 6.0/8.0 MB 2.9 MB/s eta 0:00:01\n",
      "   ------------------------------- -------- 6.3/8.0 MB 2.8 MB/s eta 0:00:01\n",
      "   -------------------------------- ------- 6.6/8.0 MB 2.7 MB/s eta 0:00:01\n",
      "   ----------------------------------- ---- 7.1/8.0 MB 2.6 MB/s eta 0:00:01\n",
      "   ------------------------------------- -- 7.6/8.0 MB 2.6 MB/s eta 0:00:01\n",
      "   ---------------------------------------- 8.0/8.0 MB 2.6 MB/s eta 0:00:00\n",
      "Downloading contourpy-1.3.1-cp313-cp313-win_amd64.whl (220 kB)\n",
      "Downloading cycler-0.12.1-py3-none-any.whl (8.3 kB)\n",
      "Downloading fonttools-4.55.3-cp313-cp313-win_amd64.whl (2.2 MB)\n",
      "   ---------------------------------------- 0.0/2.2 MB ? eta -:--:--\n",
      "   -------------- ------------------------- 0.8/2.2 MB 4.0 MB/s eta 0:00:01\n",
      "   ---------------------------- ----------- 1.6/2.2 MB 3.8 MB/s eta 0:00:01\n",
      "   ---------------------------------------- 2.2/2.2 MB 3.8 MB/s eta 0:00:00\n",
      "Downloading kiwisolver-1.4.8-cp313-cp313-win_amd64.whl (71 kB)\n",
      "Downloading pillow-11.0.0-cp313-cp313-win_amd64.whl (2.6 MB)\n",
      "   ---------------------------------------- 0.0/2.6 MB ? eta -:--:--\n",
      "   ------------ --------------------------- 0.8/2.6 MB 4.1 MB/s eta 0:00:01\n",
      "   ------------------------ --------------- 1.6/2.6 MB 4.1 MB/s eta 0:00:01\n",
      "   ------------------------------------ --- 2.4/2.6 MB 3.9 MB/s eta 0:00:01\n",
      "   ---------------------------------------- 2.6/2.6 MB 3.9 MB/s eta 0:00:00\n",
      "Downloading pyparsing-3.2.0-py3-none-any.whl (106 kB)\n",
      "Installing collected packages: pyparsing, pillow, kiwisolver, fonttools, cycler, contourpy, matplotlib\n",
      "Successfully installed contourpy-1.3.1 cycler-0.12.1 fonttools-4.55.3 kiwisolver-1.4.8 matplotlib-3.10.0 pillow-11.0.0 pyparsing-3.2.0\n"
     ]
    }
   ],
   "source": [
    "!pip install matplotlib"
   ]
  },
  {
   "cell_type": "code",
   "execution_count": 4,
   "metadata": {},
   "outputs": [
    {
     "name": "stdout",
     "output_type": "stream",
     "text": [
      "Defaulting to user installation because normal site-packages is not writeable\n",
      "Collecting seaborn\n",
      "  Downloading seaborn-0.13.2-py3-none-any.whl.metadata (5.4 kB)\n",
      "Requirement already satisfied: numpy!=1.24.0,>=1.20 in c:\\users\\eddie chua\\appdata\\roaming\\python\\python313\\site-packages (from seaborn) (2.2.1)\n",
      "Requirement already satisfied: pandas>=1.2 in c:\\users\\eddie chua\\appdata\\roaming\\python\\python313\\site-packages (from seaborn) (2.2.3)\n",
      "Requirement already satisfied: matplotlib!=3.6.1,>=3.4 in c:\\users\\eddie chua\\appdata\\roaming\\python\\python313\\site-packages (from seaborn) (3.10.0)\n",
      "Requirement already satisfied: contourpy>=1.0.1 in c:\\users\\eddie chua\\appdata\\roaming\\python\\python313\\site-packages (from matplotlib!=3.6.1,>=3.4->seaborn) (1.3.1)\n",
      "Requirement already satisfied: cycler>=0.10 in c:\\users\\eddie chua\\appdata\\roaming\\python\\python313\\site-packages (from matplotlib!=3.6.1,>=3.4->seaborn) (0.12.1)\n",
      "Requirement already satisfied: fonttools>=4.22.0 in c:\\users\\eddie chua\\appdata\\roaming\\python\\python313\\site-packages (from matplotlib!=3.6.1,>=3.4->seaborn) (4.55.3)\n",
      "Requirement already satisfied: kiwisolver>=1.3.1 in c:\\users\\eddie chua\\appdata\\roaming\\python\\python313\\site-packages (from matplotlib!=3.6.1,>=3.4->seaborn) (1.4.8)\n",
      "Requirement already satisfied: packaging>=20.0 in c:\\users\\eddie chua\\appdata\\roaming\\python\\python313\\site-packages (from matplotlib!=3.6.1,>=3.4->seaborn) (24.2)\n",
      "Requirement already satisfied: pillow>=8 in c:\\users\\eddie chua\\appdata\\roaming\\python\\python313\\site-packages (from matplotlib!=3.6.1,>=3.4->seaborn) (11.0.0)\n",
      "Requirement already satisfied: pyparsing>=2.3.1 in c:\\users\\eddie chua\\appdata\\roaming\\python\\python313\\site-packages (from matplotlib!=3.6.1,>=3.4->seaborn) (3.2.0)\n",
      "Requirement already satisfied: python-dateutil>=2.7 in c:\\users\\eddie chua\\appdata\\roaming\\python\\python313\\site-packages (from matplotlib!=3.6.1,>=3.4->seaborn) (2.9.0.post0)\n",
      "Requirement already satisfied: pytz>=2020.1 in c:\\users\\eddie chua\\appdata\\roaming\\python\\python313\\site-packages (from pandas>=1.2->seaborn) (2024.2)\n",
      "Requirement already satisfied: tzdata>=2022.7 in c:\\users\\eddie chua\\appdata\\roaming\\python\\python313\\site-packages (from pandas>=1.2->seaborn) (2024.2)\n",
      "Requirement already satisfied: six>=1.5 in c:\\users\\eddie chua\\appdata\\roaming\\python\\python313\\site-packages (from python-dateutil>=2.7->matplotlib!=3.6.1,>=3.4->seaborn) (1.17.0)\n",
      "Downloading seaborn-0.13.2-py3-none-any.whl (294 kB)\n",
      "Installing collected packages: seaborn\n",
      "Successfully installed seaborn-0.13.2\n"
     ]
    }
   ],
   "source": [
    "!pip install seaborn"
   ]
  },
  {
   "cell_type": "code",
   "execution_count": 10,
   "metadata": {},
   "outputs": [
    {
     "data": {
      "image/png": "[encoded data removed]",
      "text/plain": [
       "<Figure size 1000x800 with 2 Axes>"
      ]
     },
     "metadata": {},
     "output_type": "display_data"
    }
   ],
   "source": [
    "import matplotlib.pyplot as plt\n",
    "import seaborn as sns\n",
    "import numpy as np\n",
    "\n",
    "# Select a subset of the similarity matrix for visualization\n",
    "sample_size = 50  # Adjust as needed\n",
    "cosine_sim_subset = cosine_sim[:sample_size, :sample_size]\n",
    "\n",
    "# Create a heatmap\n",
    "plt.figure(figsize=(10, 8))\n",
    "sns.heatmap(cosine_sim_subset, cmap='viridis', xticklabels=False, yticklabels=False)\n",
    "plt.title(\"Cosine Similarity Heatmap for Sampled Games\")\n",
    "plt.xlabel(\"Game Index\")\n",
    "plt.ylabel(\"Game Index\")\n",
    "plt.show()"
   ]
  }
 ],
 "metadata": {
  "kernelspec": {
   "display_name": "Python 3",
   "language": "python",
   "name": "python3"
  },
  "language_info": {
   "codemirror_mode": {
    "name": "ipython",
    "version": 3
   },
   "file_extension": ".py",
   "mimetype": "text/x-python",
   "name": "python",
   "nbconvert_exporter": "python",
   "pygments_lexer": "ipython3",
   "version": "3.13.1"
  }
 },
 "nbformat": 4,
 "nbformat_minor": 2
}
