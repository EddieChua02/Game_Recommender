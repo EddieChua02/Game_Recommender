{
 "cells": [
  {
   "cell_type": "code",
   "execution_count": 2,
   "metadata": {},
   "outputs": [],
   "source": [
    "import pandas as pd\n",
    "from sklearn.feature_extraction.text import TfidfVectorizer\n",
    "from sklearn.metrics.pairwise import cosine_similarity, linear_kernel\n",
    "\n",
    "# Step 1: Load and Inspect the Dataset\n",
    "metadata = pd.read_csv(r\"steam.csv\")  # Replace with your file path\n",
    "\n",
    "# Step 2: Data Preprocessing\n",
    "# Fill missing values in text columns with empty strings\n",
    "metadata['description'] = metadata['description'].fillna('')\n",
    "metadata['tags'] = metadata['tags'].fillna('')\n",
    "metadata['developer'] = metadata['developer'].fillna('')\n",
    "\n",
    "# Combine relevant textual features into one column\n",
    "metadata['combined_features'] = (\n",
    "    metadata['description'] + ' ' +\n",
    "    metadata['tags']\n",
    ")"
   ]
  },
  {
   "cell_type": "code",
   "execution_count": 3,
   "metadata": {},
   "outputs": [],
   "source": [
    "# Step 3: Feature Engineering\n",
    "# Create TF-IDF matrix for combined features\n",
    "tfidf = TfidfVectorizer(stop_words='english')\n",
    "tfidf_matrix = tfidf.fit_transform(metadata['combined_features'])\n",
    "\n",
    "# Compute cosine similarity\n",
    "cosine_sim = linear_kernel(tfidf_matrix,tfidf_matrix)"
   ]
  },
  {
   "cell_type": "code",
   "execution_count": 4,
   "metadata": {},
   "outputs": [
    {
     "name": "stdout",
     "output_type": "stream",
     "text": [
      "Games similar to 'Dota 2':\n",
      " 7085                                         Roads of Rome\n",
      "967                                                  HOARD\n",
      "14479                                           VectorWave\n",
      "13108                         Greyhound Manager 2 Rebooted\n",
      "1981                                         Anomaly Korea\n",
      "14615    Phantasmat: The Endless Night Collector's Edition\n",
      "24299                                   The Legend Of Vraz\n",
      "25104                   The Qaedon Wars - The Story Begins\n",
      "3919                                          Pyrite Heart\n",
      "2346                                            Last Dream\n",
      "Name: name, dtype: object\n"
     ]
    }
   ],
   "source": [
    "# Step 4: Build the Recommendation Function\n",
    "# Create an index mapping for game names\n",
    "indices = pd.Series(metadata.index, index=metadata['name']).drop_duplicates()\n",
    "\n",
    "def recommend_games(game_name, cosine_sim=cosine_sim):\n",
    "    \"\"\"\n",
    "    Recommend games similar to the input game based on cosine similarity.\n",
    "    :param game_name: Name of the input game\n",
    "    :param cosine_sim: Cosine similarity matrix\n",
    "    :return: List of recommended game names\n",
    "    \"\"\"\n",
    "    # Get the index of the game that matches the title\n",
    "    idx = indices[game_name]\n",
    "\n",
    "    # Get the pairwise similarity scores for this game with all other games\n",
    "    sim_scores = list(enumerate(cosine_sim[idx]))\n",
    "\n",
    "    # Sort the games by similarity score (highest first)\n",
    "    sim_scores = sorted(sim_scores, key=lambda x: x[1], reverse=True)\n",
    "\n",
    "    # Get the indices of the top 10 most similar games (excluding the input game itself)\n",
    "    sim_scores = sim_scores[1:11]  # Top 10 excluding the first result (self)\n",
    "    game_indices = [i[0] for i in sim_scores]\n",
    "\n",
    "    # Return the names of the top 10 similar games\n",
    "    return metadata['name'].iloc[game_indices]\n",
    "\n",
    "# Step 5: Test the Recommender System\n",
    "game_name = \"Dota 2\"  # Replace with a game name from your dataset\n",
    "recommendations = recommend_games(game_name)\n",
    "print(f\"Games similar to '{game_name}':\\n\", recommendations)"
   ]
  },
  {
   "cell_type": "code",
   "execution_count": 8,
   "metadata": {},
   "outputs": [
    {
     "name": "stdout",
     "output_type": "stream",
     "text": [
      "Sparse cosine similarity matrix saved!\n"
     ]
    }
   ],
   "source": [
    "# Limit the dataset size\n",
    "metadata = metadata.head(5000)  # Adjust the size as needed\n",
    "\n",
    "# Compute TF-IDF matrix\n",
    "tfidf = TfidfVectorizer(stop_words='english')\n",
    "tfidf_matrix = tfidf.fit_transform(metadata['combined_features'])\n",
    "\n",
    "# Compute sparse cosine similarity\n",
    "cosine_sim = cosine_similarity(tfidf_matrix, tfidf_matrix)\n",
    "threshold = 0.2\n",
    "cosine_sim[cosine_sim < threshold] = 0  # Apply threshold\n",
    "sparse_cosine_sim = csr_matrix(cosine_sim)\n",
    "\n",
    "# Save the sparse matrix\n",
    "joblib.dump(sparse_cosine_sim, 'cosine_sim_sparse.joblib')\n",
    "print(\"Sparse cosine similarity matrix saved!\")\n"
   ]
  }
 ],
 "metadata": {
  "kernelspec": {
   "display_name": "Python 3",
   "language": "python",
   "name": "python3"
  },
  "language_info": {
   "codemirror_mode": {
    "name": "ipython",
    "version": 3
   },
   "file_extension": ".py",
   "mimetype": "text/x-python",
   "name": "python",
   "nbconvert_exporter": "python",
   "pygments_lexer": "ipython3",
   "version": "3.13.1"
  }
 },
 "nbformat": 4,
 "nbformat_minor": 2
}
